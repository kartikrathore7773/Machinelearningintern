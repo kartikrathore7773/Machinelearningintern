{
 "cells": [
  {
   "cell_type": "code",
   "execution_count": null,
   "id": "6c9f0f70",
   "metadata": {},
   "outputs": [],
   "source": [
    "# Gradient Descent in Machine Learning ===> optimizatiom technique whose work is to \n",
    "# minimize loss function.\n",
    "\n",
    "# Diffrentiation is used for calculate current location . \n",
    "\n",
    "# We know that Equation of Simple Line is \n",
    "# y = mx + b  ...... (1)   where m = weights , b = bias and x,y = co-ordinates . \n",
    "\n",
    "# Loss_function(L) = y_act - y_pred    ......(2) \n",
    "\n",
    "# Loss w.r.t. mean squared error \n",
    "# L = 1/n  * (y_act - y_pred)**2  .......(3) \n",
    "\n",
    "# if number_of_features = 1 \n",
    "\n",
    "# L = (y_act - y_pred)**2   .......(4) \n",
    "\n",
    "# Differentiation of Loss w.r.t. intercept(b) \n",
    "# dL/db = (y - (mx+b))**2  \n",
    "\n",
    "# dL/db = (y - mx - b)**2   .....(5) \n",
    "\n",
    "# dL/db = 2(y-mx-b)[d(y)/db - d(mx)/db - d(b)/db] \n",
    "\n",
    "# dL/db = 2(y-mx-b)[0-0-1] \n",
    "\n",
    "# dL/db = -2(y-mx-b)   .......(6) \n",
    "\n",
    "\n",
    "# Differentiation of Loss w.r.t. weights(m) \n",
    "# dL/dm = (y - mx - b)**2   \n",
    "# dL/dm = 2(y-mx-b)[d(y)/dm - d(mx)/dm - d(b)/dm] \n",
    "# dL/dm = 2(y-mx-b)[0-x-0] \n",
    "# dL/dm = -2(y-mx-b)(x)  .......(7) \n",
    "\n",
    "# b_new = b_old - dL/db \n",
    "\n",
    "# actual = 10 \n",
    "# pred = 5 \n",
    "# 5 - 2 = 3  ====> Zig-zag sitation ====> Gradient Exploading \n",
    "\n",
    "# for solve this issue we will use leaerning rate (neeta) that is a constant term \n",
    "# and used for get hte outout in continuous flow . \n",
    "\n",
    "# b_new = b_old - learning_rate * dL/db  .....(8) \n",
    "# m_new = m_old - learning_rate * dL/dm  .....(9) \n",
    "\n",
    "# So , the Equation of New Line will be \n",
    "# y = m_new * X + b_new   ......(10)  "
   ]
  }
 ],
 "metadata": {
  "kernelspec": {
   "display_name": "Python 3 (ipykernel)",
   "language": "python",
   "name": "python3"
  },
  "language_info": {
   "codemirror_mode": {
    "name": "ipython",
    "version": 3
   },
   "file_extension": ".py",
   "mimetype": "text/x-python",
   "name": "python",
   "nbconvert_exporter": "python",
   "pygments_lexer": "ipython3",
   "version": "3.11.5"
  }
 },
 "nbformat": 4,
 "nbformat_minor": 5
}
