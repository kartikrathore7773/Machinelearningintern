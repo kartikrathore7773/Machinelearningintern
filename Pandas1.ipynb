{
 "cells": [
  {
   "cell_type": "code",
   "execution_count": 1,
   "id": "594bda83-297f-4ad6-b911-a626cf242f58",
   "metadata": {},
   "outputs": [],
   "source": [
    "#Reshaping Array"
   ]
  },
  {
   "cell_type": "code",
   "execution_count": 14,
   "id": "3fdc5c6b-f76a-4e9d-9b5e-0dc8d69ea4fc",
   "metadata": {},
   "outputs": [],
   "source": [
    "import numpy as np"
   ]
  },
  {
   "cell_type": "code",
   "execution_count": 15,
   "id": "7105c144-d7bc-4938-8c68-a4d43d8fac70",
   "metadata": {},
   "outputs": [
    {
     "data": {
      "text/plain": [
       "array([ 8, 30, 26,  7, 30,  8, 39, 13,  9,  6, 29, 29])"
      ]
     },
     "execution_count": 15,
     "metadata": {},
     "output_type": "execute_result"
    }
   ],
   "source": [
    "a = np.random.randint(1,50,12)\n",
    "a"
   ]
  },
  {
   "cell_type": "code",
   "execution_count": 16,
   "id": "fd2ebcdc-951c-4cf8-a63e-33aba7845df4",
   "metadata": {},
   "outputs": [],
   "source": [
    "# reshape ===> n(rows) x n(columns) =n(total_elementes)"
   ]
  },
  {
   "cell_type": "code",
   "execution_count": 18,
   "id": "7d98fbec-4cbb-4d39-96e0-4020f4e2eb5c",
   "metadata": {},
   "outputs": [
    {
     "data": {
      "text/plain": [
       "array([[ 8, 30, 26,  7, 30,  8],\n",
       "       [39, 13,  9,  6, 29, 29]])"
      ]
     },
     "execution_count": 18,
     "metadata": {},
     "output_type": "execute_result"
    }
   ],
   "source": [
    "a.reshape(2,6)"
   ]
  },
  {
   "cell_type": "code",
   "execution_count": 19,
   "id": "e3eee37c-ea57-4c21-b0e7-5f5302cb2cc9",
   "metadata": {},
   "outputs": [
    {
     "data": {
      "text/plain": [
       "array([[ 8, 30, 26,  7],\n",
       "       [30,  8, 39, 13],\n",
       "       [ 9,  6, 29, 29]])"
      ]
     },
     "execution_count": 19,
     "metadata": {},
     "output_type": "execute_result"
    }
   ],
   "source": [
    "a.reshape(3,4)"
   ]
  },
  {
   "cell_type": "code",
   "execution_count": 20,
   "id": "261306ce-912e-450f-bee7-dea26411bcad",
   "metadata": {},
   "outputs": [
    {
     "data": {
      "text/plain": [
       "array([[1, 2],\n",
       "       [3, 4]])"
      ]
     },
     "execution_count": 20,
     "metadata": {},
     "output_type": "execute_result"
    }
   ],
   "source": [
    "a = np.array([1,2,3,4]).reshape(2,2)\n",
    "a"
   ]
  },
  {
   "cell_type": "code",
   "execution_count": 21,
   "id": "cb28d4a8-ccc6-4c3c-ab3e-77a46e276624",
   "metadata": {},
   "outputs": [
    {
     "data": {
      "text/plain": [
       "array([[5, 6],\n",
       "       [7, 8]])"
      ]
     },
     "execution_count": 21,
     "metadata": {},
     "output_type": "execute_result"
    }
   ],
   "source": [
    "b = np.array([5,6,7,8]).reshape(2,2)\n",
    "b"
   ]
  },
  {
   "cell_type": "code",
   "execution_count": 22,
   "id": "45600998-363f-41cd-b3e1-4f75e3956b8a",
   "metadata": {},
   "outputs": [
    {
     "data": {
      "text/plain": [
       "array([[ 6,  8],\n",
       "       [10, 12]])"
      ]
     },
     "execution_count": 22,
     "metadata": {},
     "output_type": "execute_result"
    }
   ],
   "source": [
    "a+b ### 1+5= 6, 2+6=8, 3+7=10, 4+8=12"
   ]
  },
  {
   "cell_type": "code",
   "execution_count": 23,
   "id": "3c64e9b2-348f-4e48-918c-88020c917399",
   "metadata": {},
   "outputs": [
    {
     "data": {
      "text/plain": [
       "array([[-4, -4],\n",
       "       [-4, -4]])"
      ]
     },
     "execution_count": 23,
     "metadata": {},
     "output_type": "execute_result"
    }
   ],
   "source": [
    "a-b"
   ]
  },
  {
   "cell_type": "code",
   "execution_count": 24,
   "id": "19ce3655-b622-470c-bab7-76b1d4fd63ef",
   "metadata": {
    "scrolled": true
   },
   "outputs": [
    {
     "data": {
      "text/plain": [
       "array([[19, 22],\n",
       "       [43, 50]])"
      ]
     },
     "execution_count": 24,
     "metadata": {},
     "output_type": "execute_result"
    }
   ],
   "source": [
    "a.dot(b)    ###return matrix multiplication"
   ]
  },
  {
   "cell_type": "code",
   "execution_count": 25,
   "id": "b2a72358-36cd-465a-9865-09f491a05785",
   "metadata": {},
   "outputs": [],
   "source": [
    "#unique() ===> Return unique values"
   ]
  },
  {
   "cell_type": "code",
   "execution_count": 26,
   "id": "0b9a31ca-1395-4aae-ae7c-7486442b1051",
   "metadata": {},
   "outputs": [
    {
     "data": {
      "text/plain": [
       "(array([10, 20, 30, 40, 50]),\n",
       " array([0, 1, 2, 7, 8], dtype=int64),\n",
       " array([8, 1, 2, 1, 1], dtype=int64))"
      ]
     },
     "execution_count": 26,
     "metadata": {},
     "output_type": "execute_result"
    }
   ],
   "source": [
    "a = np.array([10,20,30,10,10,10,10,40,50,10,30,10,10])\n",
    "np.unique(a, return_index = True, return_counts = True)"
   ]
  },
  {
   "cell_type": "code",
   "execution_count": 26,
   "id": "cf55a433-1e7e-4af4-804c-db2e98eba837",
   "metadata": {},
   "outputs": [],
   "source": [
    "#stacking ===>\n",
    "# (a). Hstack() ===> combines 2 or matrix in horizontally.\n",
    "# (b). vstack() ===> combines or more in vertically."
   ]
  },
  {
   "cell_type": "code",
   "execution_count": 29,
   "id": "2917d46e-c182-4ce0-964b-94e5ed50716b",
   "metadata": {},
   "outputs": [],
   "source": [
    "a = np.array([1,2,3,4])\n",
    "b = np.array([5,6,7,8])\n",
    "c = np.array([9,10,11,12])"
   ]
  },
  {
   "cell_type": "code",
   "execution_count": 31,
   "id": "32c45c5e-037c-460d-97d1-b934bfd00605",
   "metadata": {},
   "outputs": [
    {
     "data": {
      "text/plain": [
       "array([ 1,  2,  3,  4,  5,  6,  7,  8,  9, 10, 11, 12])"
      ]
     },
     "execution_count": 31,
     "metadata": {},
     "output_type": "execute_result"
    }
   ],
   "source": [
    "np.hstack((a,b,c))"
   ]
  },
  {
   "cell_type": "code",
   "execution_count": 32,
   "id": "e6b89c47-2987-4c4a-abd4-ee3bcf88d2d0",
   "metadata": {},
   "outputs": [
    {
     "data": {
      "text/plain": [
       "array([[ 1,  2,  3,  4],\n",
       "       [ 5,  6,  7,  8],\n",
       "       [ 9, 10, 11, 12]])"
      ]
     },
     "execution_count": 32,
     "metadata": {},
     "output_type": "execute_result"
    }
   ],
   "source": [
    "np.vstack((a,b,c))"
   ]
  },
  {
   "cell_type": "markdown",
   "id": "142ad635-c947-43ee-be5f-2ee46c0e67ff",
   "metadata": {},
   "source": [
    "# Pandas"
   ]
  },
  {
   "cell_type": "code",
   "execution_count": 33,
   "id": "8e1849e0-1f67-4828-b266-f34977b88567",
   "metadata": {},
   "outputs": [],
   "source": [
    "#open-Source Library that is used for handle data manipulations."
   ]
  },
  {
   "cell_type": "code",
   "execution_count": 3,
   "id": "73e7d0ee-86e6-47e0-b76c-f0a32c340ad6",
   "metadata": {},
   "outputs": [],
   "source": [
    "import pandas as pd"
   ]
  },
  {
   "cell_type": "code",
   "execution_count": 4,
   "id": "ac4b3cfb-ac19-4e9f-ab77-76ee9ddc1323",
   "metadata": {},
   "outputs": [],
   "source": [
    "# Data Structure ===>\n",
    "# (a). Series ===> 1-D Data . it contaund only values not include column name.\n",
    "# (b). DataFrame ===> multi-dimenstional data. it cntains values with column name."
   ]
  },
  {
   "cell_type": "markdown",
   "id": "4d945b49-5a92-4d98-b454-4dca3faa29ff",
   "metadata": {},
   "source": [
    "# Series"
   ]
  },
  {
   "cell_type": "code",
   "execution_count": 5,
   "id": "c0805ffe-c740-46ed-80d3-d9b8dec1334f",
   "metadata": {},
   "outputs": [
    {
     "data": {
      "text/plain": [
       "0     1\n",
       "1    45\n",
       "2    78\n",
       "3    90\n",
       "dtype: int64"
      ]
     },
     "execution_count": 5,
     "metadata": {},
     "output_type": "execute_result"
    }
   ],
   "source": [
    "a = pd.Series([1,45,78,90])\n",
    "a"
   ]
  },
  {
   "cell_type": "code",
   "execution_count": 6,
   "id": "57a23c5e-5f51-4225-b3d2-1b5706da2fe8",
   "metadata": {},
   "outputs": [
    {
     "data": {
      "text/plain": [
       "pandas.core.series.Series"
      ]
     },
     "execution_count": 6,
     "metadata": {},
     "output_type": "execute_result"
    }
   ],
   "source": [
    "type(a)"
   ]
  },
  {
   "cell_type": "markdown",
   "id": "69e69183-36ca-476e-b0e0-5fe6d91405fd",
   "metadata": {},
   "source": [
    " # DataFrame"
   ]
  },
  {
   "cell_type": "code",
   "execution_count": 7,
   "id": "83b27f1c-13da-454e-906e-7fb285e4e12a",
   "metadata": {},
   "outputs": [],
   "source": [
    "a = {\n",
    "    \"Emp_ID\":['A' , 'B' , 'C' , 'D' , 'E' , 'F'],\n",
    "    \"Name\" : ['Sam' , 'Mohit' , 'Raj' , 'Rahul' , 'Gorav' , 'Aniket'],\n",
    "    \"Department\":['IT' , 'HR' , 'HR' , 'IT' , 'IT' , 'Sales'],\n",
    "    \"Salary\" : [23000 , 26000 , 34000 , 56000 , 40000 , 53000]\n",
    "}"
   ]
  },
  {
   "cell_type": "code",
   "execution_count": 8,
   "id": "26865d25-be51-498a-980e-02e91ab05fc9",
   "metadata": {},
   "outputs": [
    {
     "data": {
      "text/plain": [
       "dict"
      ]
     },
     "execution_count": 8,
     "metadata": {},
     "output_type": "execute_result"
    }
   ],
   "source": [
    "type(a) "
   ]
  },
  {
   "cell_type": "code",
   "execution_count": 9,
   "id": "06164cd8-a20b-4d25-8a08-6930c49e01c6",
   "metadata": {},
   "outputs": [
    {
     "data": {
      "text/html": [
       "<div>\n",
       "<style scoped>\n",
       "    .dataframe tbody tr th:only-of-type {\n",
       "        vertical-align: middle;\n",
       "    }\n",
       "\n",
       "    .dataframe tbody tr th {\n",
       "        vertical-align: top;\n",
       "    }\n",
       "\n",
       "    .dataframe thead th {\n",
       "        text-align: right;\n",
       "    }\n",
       "</style>\n",
       "<table border=\"1\" class=\"dataframe\">\n",
       "  <thead>\n",
       "    <tr style=\"text-align: right;\">\n",
       "      <th></th>\n",
       "      <th>Emp_ID</th>\n",
       "      <th>Name</th>\n",
       "      <th>Department</th>\n",
       "      <th>Salary</th>\n",
       "    </tr>\n",
       "  </thead>\n",
       "  <tbody>\n",
       "    <tr>\n",
       "      <th>0</th>\n",
       "      <td>A</td>\n",
       "      <td>Sam</td>\n",
       "      <td>IT</td>\n",
       "      <td>23000</td>\n",
       "    </tr>\n",
       "    <tr>\n",
       "      <th>1</th>\n",
       "      <td>B</td>\n",
       "      <td>Mohit</td>\n",
       "      <td>HR</td>\n",
       "      <td>26000</td>\n",
       "    </tr>\n",
       "    <tr>\n",
       "      <th>2</th>\n",
       "      <td>C</td>\n",
       "      <td>Raj</td>\n",
       "      <td>HR</td>\n",
       "      <td>34000</td>\n",
       "    </tr>\n",
       "    <tr>\n",
       "      <th>3</th>\n",
       "      <td>D</td>\n",
       "      <td>Rahul</td>\n",
       "      <td>IT</td>\n",
       "      <td>56000</td>\n",
       "    </tr>\n",
       "    <tr>\n",
       "      <th>4</th>\n",
       "      <td>E</td>\n",
       "      <td>Gorav</td>\n",
       "      <td>IT</td>\n",
       "      <td>40000</td>\n",
       "    </tr>\n",
       "    <tr>\n",
       "      <th>5</th>\n",
       "      <td>F</td>\n",
       "      <td>Aniket</td>\n",
       "      <td>Sales</td>\n",
       "      <td>53000</td>\n",
       "    </tr>\n",
       "  </tbody>\n",
       "</table>\n",
       "</div>"
      ],
      "text/plain": [
       "  Emp_ID    Name Department  Salary\n",
       "0      A     Sam         IT   23000\n",
       "1      B   Mohit         HR   26000\n",
       "2      C     Raj         HR   34000\n",
       "3      D   Rahul         IT   56000\n",
       "4      E   Gorav         IT   40000\n",
       "5      F  Aniket      Sales   53000"
      ]
     },
     "execution_count": 9,
     "metadata": {},
     "output_type": "execute_result"
    }
   ],
   "source": [
    "df = pd.DataFrame(a) \n",
    "df"
   ]
  },
  {
   "cell_type": "code",
   "execution_count": 10,
   "id": "9d4f1733-4ce1-4287-9794-334f8b8d9345",
   "metadata": {},
   "outputs": [
    {
     "data": {
      "text/plain": [
       "pandas.core.frame.DataFrame"
      ]
     },
     "execution_count": 10,
     "metadata": {},
     "output_type": "execute_result"
    }
   ],
   "source": [
    "type(df) "
   ]
  },
  {
   "cell_type": "markdown",
   "id": "1674e28e-a3f2-4c06-9f81-1a16e7508683",
   "metadata": {},
   "source": [
    "# How can we check top data in a dataframe ? "
   ]
  },
  {
   "cell_type": "code",
   "execution_count": 11,
   "id": "c5fb9913-e140-4244-a2d4-d11d5bc02b9c",
   "metadata": {},
   "outputs": [],
   "source": [
    "# df.head() "
   ]
  },
  {
   "cell_type": "code",
   "execution_count": 13,
   "id": "09e21363-66d5-4baa-97d4-0f29a0e945c3",
   "metadata": {},
   "outputs": [],
   "source": [
    " #df.head(3) "
   ]
  },
  {
   "cell_type": "markdown",
   "id": "7aad1056-bd2d-4768-98e7-34cdba2f81d3",
   "metadata": {},
   "source": [
    "# How can we check bottom data in a dataframe ? "
   ]
  },
  {
   "cell_type": "code",
   "execution_count": 52,
   "id": "f4c9ffbe-9fa5-4549-bb7b-568cba221d13",
   "metadata": {},
   "outputs": [],
   "source": [
    "# df.tail() "
   ]
  },
  {
   "cell_type": "code",
   "execution_count": 53,
   "id": "0a71df30-04c7-4aec-aff7-71f304f2569a",
   "metadata": {},
   "outputs": [],
   "source": [
    "# df.tail(2)"
   ]
  },
  {
   "cell_type": "markdown",
   "id": "baa25f95-eab5-47e0-bb4a-00e046d237ec",
   "metadata": {},
   "source": [
    "# How can we check random indexed data ? "
   ]
  },
  {
   "cell_type": "code",
   "execution_count": 54,
   "id": "c98b14d3-2abb-431d-8032-e413ccfaf2f0",
   "metadata": {},
   "outputs": [],
   "source": [
    "# df.sample() "
   ]
  },
  {
   "cell_type": "code",
   "execution_count": 55,
   "id": "50db46e1-f312-4d3f-a6b3-b71b2044a7fc",
   "metadata": {},
   "outputs": [
    {
     "data": {
      "text/html": [
       "<div>\n",
       "<style scoped>\n",
       "    .dataframe tbody tr th:only-of-type {\n",
       "        vertical-align: middle;\n",
       "    }\n",
       "\n",
       "    .dataframe tbody tr th {\n",
       "        vertical-align: top;\n",
       "    }\n",
       "\n",
       "    .dataframe thead th {\n",
       "        text-align: right;\n",
       "    }\n",
       "</style>\n",
       "<table border=\"1\" class=\"dataframe\">\n",
       "  <thead>\n",
       "    <tr style=\"text-align: right;\">\n",
       "      <th></th>\n",
       "      <th>Emp_ID</th>\n",
       "      <th>Name</th>\n",
       "      <th>Department</th>\n",
       "      <th>Salary</th>\n",
       "    </tr>\n",
       "  </thead>\n",
       "  <tbody>\n",
       "    <tr>\n",
       "      <th>1</th>\n",
       "      <td>B</td>\n",
       "      <td>Mohit</td>\n",
       "      <td>HR</td>\n",
       "      <td>26000</td>\n",
       "    </tr>\n",
       "    <tr>\n",
       "      <th>4</th>\n",
       "      <td>E</td>\n",
       "      <td>Gorav</td>\n",
       "      <td>IT</td>\n",
       "      <td>40000</td>\n",
       "    </tr>\n",
       "  </tbody>\n",
       "</table>\n",
       "</div>"
      ],
      "text/plain": [
       "  Emp_ID   Name Department  Salary\n",
       "1      B  Mohit         HR   26000\n",
       "4      E  Gorav         IT   40000"
      ]
     },
     "execution_count": 55,
     "metadata": {},
     "output_type": "execute_result"
    }
   ],
   "source": [
    "df.sample(2) "
   ]
  },
  {
   "cell_type": "markdown",
   "id": "33bfb38a-1d09-4ddd-b211-bc532aff05ad",
   "metadata": {},
   "source": [
    "# How can we check total data shape ? "
   ]
  },
  {
   "cell_type": "code",
   "execution_count": 56,
   "id": "a2bc7c7b-0019-4979-932d-940f3b7fbcb4",
   "metadata": {},
   "outputs": [],
   "source": [
    "# df.shape "
   ]
  },
  {
   "cell_type": "markdown",
   "id": "95a33346-0371-46c5-ac15-8395877dd47e",
   "metadata": {},
   "source": [
    "# How can we check total columns in a dataframe ? "
   ]
  },
  {
   "cell_type": "code",
   "execution_count": 57,
   "id": "779ecbe4-3704-4f48-a95f-49404dea27e5",
   "metadata": {},
   "outputs": [],
   "source": [
    "# df.columns "
   ]
  },
  {
   "cell_type": "markdown",
   "id": "7db6c776-5bca-4e79-af79-4b0ff2644f11",
   "metadata": {},
   "source": [
    "# How can we check total sub-categories of a column ? "
   ]
  },
  {
   "cell_type": "code",
   "execution_count": 58,
   "id": "b4b2b71e-5fbb-482b-b0b5-00b720de2a77",
   "metadata": {},
   "outputs": [],
   "source": [
    "# df['Department'].value_counts() "
   ]
  },
  {
   "cell_type": "markdown",
   "id": "a5c541e9-4fc5-4ad5-aa54-98e75299bf0d",
   "metadata": {},
   "source": [
    "# How  can we check overall information of data ? "
   ]
  },
  {
   "cell_type": "code",
   "execution_count": 59,
   "id": "71a2a132-0d7d-495e-8297-5097e58e074a",
   "metadata": {},
   "outputs": [],
   "source": [
    "# df.info() "
   ]
  },
  {
   "cell_type": "markdown",
   "id": "95be4d4e-4644-4c12-9b14-bf087b5b02ea",
   "metadata": {},
   "source": [
    "# How can we check statically view of a data ? "
   ]
  },
  {
   "cell_type": "code",
   "execution_count": 60,
   "id": "1c43f447-426c-49f3-b3f9-27bec278644c",
   "metadata": {},
   "outputs": [],
   "source": [
    "# df.describe() "
   ]
  },
  {
   "cell_type": "code",
   "execution_count": 61,
   "id": "c64f0799-b0de-47fd-90f0-c77930fde3c9",
   "metadata": {},
   "outputs": [],
   "source": [
    "# DataFrmae is mutable . "
   ]
  },
  {
   "cell_type": "code",
   "execution_count": 62,
   "id": "7680a3e1-6496-47a6-b289-58c56f0c1d2f",
   "metadata": {},
   "outputs": [],
   "source": [
    "# df"
   ]
  },
  {
   "cell_type": "code",
   "execution_count": 63,
   "id": "5d8c40f5-7d79-422d-af10-5355d404fb53",
   "metadata": {},
   "outputs": [],
   "source": [
    "# df['Name'][2] = \"Pallavi\""
   ]
  },
  {
   "cell_type": "code",
   "execution_count": 64,
   "id": "2136c2f3-673c-4d59-90da-d5c9cac2c846",
   "metadata": {},
   "outputs": [],
   "source": [
    "# df"
   ]
  },
  {
   "cell_type": "code",
   "execution_count": 65,
   "id": "c7ddaed3-148a-448d-88c3-c6f158db73e0",
   "metadata": {},
   "outputs": [
    {
     "data": {
      "text/html": [
       "<div>\n",
       "<style scoped>\n",
       "    .dataframe tbody tr th:only-of-type {\n",
       "        vertical-align: middle;\n",
       "    }\n",
       "\n",
       "    .dataframe tbody tr th {\n",
       "        vertical-align: top;\n",
       "    }\n",
       "\n",
       "    .dataframe thead th {\n",
       "        text-align: right;\n",
       "    }\n",
       "</style>\n",
       "<table border=\"1\" class=\"dataframe\">\n",
       "  <thead>\n",
       "    <tr style=\"text-align: right;\">\n",
       "      <th></th>\n",
       "      <th>Name</th>\n",
       "      <th>Salary</th>\n",
       "    </tr>\n",
       "  </thead>\n",
       "  <tbody>\n",
       "    <tr>\n",
       "      <th>1</th>\n",
       "      <td>Mohit</td>\n",
       "      <td>26000</td>\n",
       "    </tr>\n",
       "    <tr>\n",
       "      <th>2</th>\n",
       "      <td>Raj</td>\n",
       "      <td>34000</td>\n",
       "    </tr>\n",
       "    <tr>\n",
       "      <th>3</th>\n",
       "      <td>Rahul</td>\n",
       "      <td>56000</td>\n",
       "    </tr>\n",
       "  </tbody>\n",
       "</table>\n",
       "</div>"
      ],
      "text/plain": [
       "    Name  Salary\n",
       "1  Mohit   26000\n",
       "2    Raj   34000\n",
       "3  Rahul   56000"
      ]
     },
     "execution_count": 65,
     "metadata": {},
     "output_type": "execute_result"
    }
   ],
   "source": [
    "# loc() and iloc()  ====> \n",
    "\n",
    "df.loc[1:3 , ['Name' , 'Salary']]    #### df.loc[row_range , column_name]"
   ]
  },
  {
   "cell_type": "code",
   "execution_count": 66,
   "id": "2f01ff5b-5b3c-47dd-acc1-338dd095a664",
   "metadata": {},
   "outputs": [
    {
     "data": {
      "text/html": [
       "<div>\n",
       "<style scoped>\n",
       "    .dataframe tbody tr th:only-of-type {\n",
       "        vertical-align: middle;\n",
       "    }\n",
       "\n",
       "    .dataframe tbody tr th {\n",
       "        vertical-align: top;\n",
       "    }\n",
       "\n",
       "    .dataframe thead th {\n",
       "        text-align: right;\n",
       "    }\n",
       "</style>\n",
       "<table border=\"1\" class=\"dataframe\">\n",
       "  <thead>\n",
       "    <tr style=\"text-align: right;\">\n",
       "      <th></th>\n",
       "      <th>Emp_ID</th>\n",
       "      <th>Name</th>\n",
       "      <th>Department</th>\n",
       "      <th>Salary</th>\n",
       "    </tr>\n",
       "  </thead>\n",
       "  <tbody>\n",
       "    <tr>\n",
       "      <th>1</th>\n",
       "      <td>B</td>\n",
       "      <td>Mohit</td>\n",
       "      <td>HR</td>\n",
       "      <td>26000</td>\n",
       "    </tr>\n",
       "    <tr>\n",
       "      <th>2</th>\n",
       "      <td>C</td>\n",
       "      <td>Raj</td>\n",
       "      <td>HR</td>\n",
       "      <td>34000</td>\n",
       "    </tr>\n",
       "    <tr>\n",
       "      <th>3</th>\n",
       "      <td>D</td>\n",
       "      <td>Rahul</td>\n",
       "      <td>IT</td>\n",
       "      <td>56000</td>\n",
       "    </tr>\n",
       "  </tbody>\n",
       "</table>\n",
       "</div>"
      ],
      "text/plain": [
       "  Emp_ID   Name Department  Salary\n",
       "1      B  Mohit         HR   26000\n",
       "2      C    Raj         HR   34000\n",
       "3      D  Rahul         IT   56000"
      ]
     },
     "execution_count": 66,
     "metadata": {},
     "output_type": "execute_result"
    }
   ],
   "source": [
    "df.iloc[1:4 , [0,1,2,3]]    #### df.iloc[row_range , column_range]"
   ]
  },
  {
   "cell_type": "code",
   "execution_count": null,
   "id": "88c33371-16de-4c35-972b-d63ea11d6209",
   "metadata": {},
   "outputs": [],
   "source": []
  }
 ],
 "metadata": {
  "kernelspec": {
   "display_name": "Python 3 (ipykernel)",
   "language": "python",
   "name": "python3"
  },
  "language_info": {
   "codemirror_mode": {
    "name": "ipython",
    "version": 3
   },
   "file_extension": ".py",
   "mimetype": "text/x-python",
   "name": "python",
   "nbconvert_exporter": "python",
   "pygments_lexer": "ipython3",
   "version": "3.11.5"
  }
 },
 "nbformat": 4,
 "nbformat_minor": 5
}
