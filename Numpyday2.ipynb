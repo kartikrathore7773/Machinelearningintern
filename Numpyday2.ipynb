{
 "cells": [
  {
   "cell_type": "markdown",
   "id": "5c98ea15-8504-40be-b6fd-d720c7dfd4dc",
   "metadata": {},
   "source": [
    "# view vs copy===>"
   ]
  },
  {
   "cell_type": "code",
   "execution_count": 3,
   "id": "d39802fc-db01-4039-b328-d6259fdfef5b",
   "metadata": {},
   "outputs": [
    {
     "data": {
      "text/plain": [
       "array([10,  0,  0, 40])"
      ]
     },
     "execution_count": 3,
     "metadata": {},
     "output_type": "execute_result"
    }
   ],
   "source": [
    "import numpy as np\n",
    "a = np.array([10,20,30,40,])\n",
    "b = a[1:3]\n",
    "b[:] = 0\n",
    "a"
   ]
  },
  {
   "cell_type": "code",
   "execution_count": 4,
   "id": "d02a294b-91fd-4e02-86fe-d0eb652181b8",
   "metadata": {},
   "outputs": [
    {
     "data": {
      "text/plain": [
       "array([10, 20, 30, 40, 50, 60])"
      ]
     },
     "execution_count": 4,
     "metadata": {},
     "output_type": "execute_result"
    }
   ],
   "source": [
    "a = np.array([10,20,30,40,50,60])\n",
    "b = a[1:3].copy() \n",
    "b[:] = 0 \n",
    "b\n",
    "a"
   ]
  },
  {
   "cell_type": "code",
   "execution_count": 5,
   "id": "9251488b-5598-435d-a51f-f6c10f9d3fdd",
   "metadata": {},
   "outputs": [
    {
     "data": {
      "text/plain": [
       "array([1.  , 1.25, 1.5 , 1.75, 2.  ])"
      ]
     },
     "execution_count": 5,
     "metadata": {},
     "output_type": "execute_result"
    }
   ],
   "source": [
    "# LinSpace() ===> It returns same gap numbers from minimum number to maximum number . \n",
    "a = np.linspace(1,2,5)\n",
    "a"
   ]
  },
  {
   "cell_type": "code",
   "execution_count": null,
   "id": "fb49bc70-930c-4bcd-8255-6c57d62b5db9",
   "metadata": {},
   "outputs": [],
   "source": []
  }
 ],
 "metadata": {
  "kernelspec": {
   "display_name": "Python 3 (ipykernel)",
   "language": "python",
   "name": "python3"
  },
  "language_info": {
   "codemirror_mode": {
    "name": "ipython",
    "version": 3
   },
   "file_extension": ".py",
   "mimetype": "text/x-python",
   "name": "python",
   "nbconvert_exporter": "python",
   "pygments_lexer": "ipython3",
   "version": "3.11.5"
  }
 },
 "nbformat": 4,
 "nbformat_minor": 5
}
