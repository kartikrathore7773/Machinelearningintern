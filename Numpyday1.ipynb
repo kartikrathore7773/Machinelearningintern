{
 "cells": [
  {
   "cell_type": "code",
   "execution_count": 1,
   "id": "e39a44df-031a-4532-87b6-809d3e429ddd",
   "metadata": {},
   "outputs": [
    {
     "name": "stdout",
     "output_type": "stream",
     "text": [
      "Requirement already satisfied: numpy in c:\\users\\ks761\\anaconda3\\lib\\site-packages (1.26.4)\n",
      "Note: you may need to restart the kernel to use updated packages.\n"
     ]
    }
   ],
   "source": [
    "pip install numpy"
   ]
  },
  {
   "cell_type": "code",
   "execution_count": 2,
   "id": "4913b7f2-ef16-4d4d-86aa-ec5ff35447a5",
   "metadata": {},
   "outputs": [],
   "source": [
    "import numpy as np"
   ]
  },
  {
   "cell_type": "code",
   "execution_count": 3,
   "id": "58981d3e-e309-476f-983a-f5f3c1dbe6e9",
   "metadata": {},
   "outputs": [
    {
     "data": {
      "text/plain": [
       "list"
      ]
     },
     "execution_count": 3,
     "metadata": {},
     "output_type": "execute_result"
    }
   ],
   "source": [
    "a = [1,23,25,76]\n",
    "type(a)"
   ]
  },
  {
   "cell_type": "code",
   "execution_count": 4,
   "id": "ce4efea0-0191-40d5-b2e8-da2e2d50e41c",
   "metadata": {},
   "outputs": [
    {
     "data": {
      "text/plain": [
       "array([ 1, 23, 25, 76])"
      ]
     },
     "execution_count": 4,
     "metadata": {},
     "output_type": "execute_result"
    }
   ],
   "source": [
    "b = np.array(a)\n",
    "b"
   ]
  },
  {
   "cell_type": "code",
   "execution_count": 5,
   "id": "ffe3b9e8-dc89-4191-a074-5a53b239062c",
   "metadata": {},
   "outputs": [
    {
     "data": {
      "text/plain": [
       "numpy.ndarray"
      ]
     },
     "execution_count": 5,
     "metadata": {},
     "output_type": "execute_result"
    }
   ],
   "source": [
    "type(b)"
   ]
  },
  {
   "cell_type": "markdown",
   "id": "785b00c4-0e01-49ee-8247-b1d0e660e6b8",
   "metadata": {},
   "source": [
    "# how can we create user defined array?"
   ]
  },
  {
   "cell_type": "code",
   "execution_count": 6,
   "id": "7236435d-d00e-4fdc-8aa3-1136ddc3d6e1",
   "metadata": {},
   "outputs": [
    {
     "name": "stdin",
     "output_type": "stream",
     "text": [
      "Enter size: 2\n",
      "Enter Number: 32\n",
      "Enter Number: 35\n"
     ]
    },
    {
     "data": {
      "text/plain": [
       "array([32, 35])"
      ]
     },
     "execution_count": 6,
     "metadata": {},
     "output_type": "execute_result"
    }
   ],
   "source": [
    "a=[]\n",
    "size = int(input(\"Enter size:\"))\n",
    "for i in range(size):\n",
    "    val = int(input(\"Enter Number:\"))\n",
    "    a.append(val)\n",
    "\n",
    "b = np.array(a)\n",
    "b"
   ]
  },
  {
   "cell_type": "code",
   "execution_count": 15,
   "id": "33e4d7bd-32e2-459c-96c5-0ddecaec1b64",
   "metadata": {},
   "outputs": [
    {
     "data": {
      "text/plain": [
       "array([1, 2, 3])"
      ]
     },
     "execution_count": 15,
     "metadata": {},
     "output_type": "execute_result"
    }
   ],
   "source": [
    "a = [1,2,3]\n",
    "b = np.array(a)\n",
    "b"
   ]
  },
  {
   "cell_type": "markdown",
   "id": "f922447f-99d1-457d-8d54-e83ff79d26df",
   "metadata": {},
   "source": [
    "# Shape,size,dimension of an array"
   ]
  },
  {
   "cell_type": "code",
   "execution_count": 7,
   "id": "71e07c7b-32b0-43a8-9442-70a9b0f3445b",
   "metadata": {},
   "outputs": [
    {
     "name": "stdout",
     "output_type": "stream",
     "text": [
      "Total shape =  (3,)\n",
      "Total elementes =  3\n",
      "Total Dimension =  1\n"
     ]
    }
   ],
   "source": [
    "print(\"Total shape = \",b.shape)\n",
    "print(\"Total elementes = \",b.size)\n",
    "print(\"Total Dimension = \",b.ndim)"
   ]
  },
  {
   "cell_type": "code",
   "execution_count": 8,
   "id": "a1892b29-94b3-4847-8fc8-c03c5fc2d851",
   "metadata": {},
   "outputs": [
    {
     "data": {
      "text/plain": [
       "array([[1, 2, 3],\n",
       "       [4, 5, 6],\n",
       "       [7, 8, 9]])"
      ]
     },
     "execution_count": 8,
     "metadata": {},
     "output_type": "execute_result"
    }
   ],
   "source": [
    "a = [[1,2,3],[4,5,6],[7,8,9]]\n",
    "b = np.array(a)\n",
    "b"
   ]
  },
  {
   "cell_type": "code",
   "execution_count": 9,
   "id": "3ca11b58-d684-4f13-abb2-bec9b9035a06",
   "metadata": {},
   "outputs": [
    {
     "name": "stdout",
     "output_type": "stream",
     "text": [
      "Total shape =  (3, 3)\n",
      "Total elementes =  9\n",
      "Total Dimension =  2\n"
     ]
    }
   ],
   "source": [
    "print(\"Total shape = \",b.shape)\n",
    "print(\"Total elementes = \",b.size)\n",
    "print(\"Total Dimension = \",b.ndim)"
   ]
  },
  {
   "cell_type": "markdown",
   "id": "0667ce34-47fb-47d1-8c74-773c02c0809a",
   "metadata": {},
   "source": [
    "# Pre-defined functions in Numpy"
   ]
  },
  {
   "cell_type": "markdown",
   "id": "e75582b1-197f-4208-858d-d786e168478d",
   "metadata": {},
   "source": [
    "# (1).zeros()====>This will craete an array in which the values are 0."
   ]
  },
  {
   "cell_type": "code",
   "execution_count": 10,
   "id": "60e19f63-30e0-4e43-94d7-4494144d0942",
   "metadata": {},
   "outputs": [
    {
     "data": {
      "text/plain": [
       "array([0., 0., 0.])"
      ]
     },
     "execution_count": 10,
     "metadata": {},
     "output_type": "execute_result"
    }
   ],
   "source": [
    "a = np.zeros(3)\n",
    "a"
   ]
  },
  {
   "cell_type": "code",
   "execution_count": 12,
   "id": "968bc7db-c21c-478a-8ae1-f7f1c8932474",
   "metadata": {},
   "outputs": [
    {
     "data": {
      "text/plain": [
       "array([[0., 0., 0., 0.],\n",
       "       [0., 0., 0., 0.],\n",
       "       [0., 0., 0., 0.]])"
      ]
     },
     "execution_count": 12,
     "metadata": {},
     "output_type": "execute_result"
    }
   ],
   "source": [
    "a = np.zeros((3,4))\n",
    "a"
   ]
  },
  {
   "cell_type": "markdown",
   "id": "b6133be9-8b9b-4f30-a11c-3c479700148e",
   "metadata": {},
   "source": [
    "# (2).ones ()===>it will crate an array in which all the values are 1."
   ]
  },
  {
   "cell_type": "code",
   "execution_count": 13,
   "id": "2d192805-8c27-442a-be79-15310ee63eef",
   "metadata": {},
   "outputs": [
    {
     "data": {
      "text/plain": [
       "array([1., 1., 1.])"
      ]
     },
     "execution_count": 13,
     "metadata": {},
     "output_type": "execute_result"
    }
   ],
   "source": [
    "a=np.ones(3)\n",
    "a"
   ]
  },
  {
   "cell_type": "code",
   "execution_count": 16,
   "id": "ae78d12f-838d-4fd1-a8f4-f52784376b64",
   "metadata": {},
   "outputs": [
    {
     "data": {
      "text/plain": [
       "array([[1., 1., 1., 1., 1.],\n",
       "       [1., 1., 1., 1., 1.],\n",
       "       [1., 1., 1., 1., 1.],\n",
       "       [1., 1., 1., 1., 1.]])"
      ]
     },
     "execution_count": 16,
     "metadata": {},
     "output_type": "execute_result"
    }
   ],
   "source": [
    "a = np.ones((4,5))\n",
    "a"
   ]
  },
  {
   "cell_type": "markdown",
   "id": "0a7caca2-25a9-4952-900b-01460c76f722",
   "metadata": {},
   "source": [
    "# 3.eye()===> it will crate an array in which diognal positional elementes are 1 and rest all are 0."
   ]
  },
  {
   "cell_type": "code",
   "execution_count": 18,
   "id": "ef8848a6-86c3-4b27-ae75-897c3bb6efe7",
   "metadata": {},
   "outputs": [
    {
     "data": {
      "text/plain": [
       "array([[1., 0., 0., 0.],\n",
       "       [0., 1., 0., 0.],\n",
       "       [0., 0., 1., 0.]])"
      ]
     },
     "execution_count": 18,
     "metadata": {},
     "output_type": "execute_result"
    }
   ],
   "source": [
    "a = np.eye(3,4)  ### n(row) != n(columns)  ====> ASymmatric Matrix \n",
    "a"
   ]
  },
  {
   "cell_type": "code",
   "execution_count": 17,
   "id": "1f5173fa-2c8b-47bf-af55-1835b495b261",
   "metadata": {},
   "outputs": [
    {
     "data": {
      "text/plain": [
       "array([[1., 0., 0., 0.],\n",
       "       [0., 1., 0., 0.],\n",
       "       [0., 0., 1., 0.],\n",
       "       [0., 0., 0., 1.]])"
      ]
     },
     "execution_count": 17,
     "metadata": {},
     "output_type": "execute_result"
    }
   ],
   "source": [
    "a=np.eye(4)  #### n(row) = n(column)  ====> Symmatric Matrix\n",
    "a"
   ]
  },
  {
   "cell_type": "markdown",
   "id": "91ef3efb-faa1-4bbf-af1e-7cb7affe1b24",
   "metadata": {},
   "source": [
    "# 4.diag()===>it will customize our diognal positional values."
   ]
  },
  {
   "cell_type": "code",
   "execution_count": 21,
   "id": "d0a71524-1353-4769-a395-6a8dda3eec01",
   "metadata": {},
   "outputs": [
    {
     "data": {
      "text/plain": [
       "array([[ 1,  0,  0,  0],\n",
       "       [ 0, 22,  0,  0],\n",
       "       [ 0,  0, 54,  0],\n",
       "       [ 0,  0,  0, 65]])"
      ]
     },
     "execution_count": 21,
     "metadata": {},
     "output_type": "execute_result"
    }
   ],
   "source": [
    "a = np.diag([1,22,54,65])\n",
    "a"
   ]
  },
  {
   "cell_type": "code",
   "execution_count": 19,
   "id": "52ee6d37-258f-4293-8ec7-8bc1403eb4e5",
   "metadata": {},
   "outputs": [
    {
     "data": {
      "text/plain": [
       "array([3, 2, 5])"
      ]
     },
     "execution_count": 19,
     "metadata": {},
     "output_type": "execute_result"
    }
   ],
   "source": [
    "# (5). Random Module ====> \n",
    "# (a). Randint() ===> It will create an array from min_range to max_range . \n",
    "# syntax : np.random.randint(min_vaue , max_value , total_numbers) \n",
    "\n",
    "a = np.random.randint(1,10,3)\n",
    "a"
   ]
  },
  {
   "cell_type": "code",
   "execution_count": 24,
   "id": "3cb57298-8b2d-4d9f-9a5f-92bc65062928",
   "metadata": {},
   "outputs": [
    {
     "data": {
      "text/plain": [
       "array([0.24224129, 0.3931351 , 0.50334104, 0.44135625])"
      ]
     },
     "execution_count": 24,
     "metadata": {},
     "output_type": "execute_result"
    }
   ],
   "source": [
    "#(b). Rand ===> it will create an array in which all the values belong from 0 to 1.\n",
    "#syntax : np.random.rand(total_numbers)\n",
    "\n",
    "a = np.random.rand (4)\n",
    "a"
   ]
  },
  {
   "cell_type": "code",
   "execution_count": 7,
   "id": "e024d61b-5dcf-4dd7-ab82-91d2365f8e68",
   "metadata": {},
   "outputs": [
    {
     "data": {
      "text/plain": [
       "array([4, 6, 6])"
      ]
     },
     "execution_count": 7,
     "metadata": {},
     "output_type": "execute_result"
    }
   ],
   "source": [
    "#(c). seed()===>\n",
    "np.random.seed(67)\n",
    "a = np.random.randint(1,10,3)\n",
    "a\n"
   ]
  },
  {
   "cell_type": "code",
   "execution_count": null,
   "id": "7a82bb7a-c10e-45c4-8012-d4e5c30d4619",
   "metadata": {},
   "outputs": [],
   "source": []
  }
 ],
 "metadata": {
  "kernelspec": {
   "display_name": "Python 3 (ipykernel)",
   "language": "python",
   "name": "python3"
  },
  "language_info": {
   "codemirror_mode": {
    "name": "ipython",
    "version": 3
   },
   "file_extension": ".py",
   "mimetype": "text/x-python",
   "name": "python",
   "nbconvert_exporter": "python",
   "pygments_lexer": "ipython3",
   "version": "3.11.5"
  }
 },
 "nbformat": 4,
 "nbformat_minor": 5
}
